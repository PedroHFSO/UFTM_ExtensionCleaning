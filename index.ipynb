{
 "cells": [
  {
   "cell_type": "raw",
   "metadata": {},
   "source": [
    "---\n",
    "title: \"UFTM Extension Programs Dataset Cleaning\"\n",
    "format: html\n",
    "code-fold: show\n",
    "---"
   ]
  },
  {
   "attachments": {},
   "cell_type": "markdown",
   "metadata": {},
   "source": [
    "## About  "
   ]
  },
  {
   "attachments": {},
   "cell_type": "markdown",
   "metadata": {},
   "source": [
    "The goal of this notebook is for me to practice my ability of transforming and cleaning data from a data source and releasing something that can be used for further analysis.\n",
    "\n",
    "### On the Dataset\n",
    "\n",
    "The data used here was collected from a open source dataset from the brazilian government. It contains information about all the projects and extension programs from the brazilian university _Universidade Federal do Triângulo Mineiro_ (UFTM) in the second semester of 2022 (period known as 2022/02). The link to download the dataset can be found [here](https://dados.gov.br/dados/conjuntos-dados/programas-e-projetos-de-extenso). I downloaded it and stored in the `./datasets/` folder with the name: `2022-2_extensions.csv`.\n",
    "\n",
    "`Resource Name: \"Informações Acadêmicas - Programas e Projetos de Extensão Universitária - 2022/02 [CSV]\"`\n",
    "\n",
    "### Requirements\n",
    "\n",
    "Execute the cell below to download all the required libraries used in this notebook."
   ]
  },
  {
   "cell_type": "code",
   "execution_count": null,
   "metadata": {},
   "outputs": [],
   "source": [
    "%pip install virtualenv # Install virtualenv if not already installed\n",
    "%virtualenv uftm-cleaning # Create a new virtual environment\n",
    "%source myenv/bin/activate # Activate the virtual environment\n",
    "%pip install -r requirements.txt # Install dependencies from requirements.txt\n"
   ]
  }
 ],
 "metadata": {
  "kernelspec": {
   "display_name": "Python 3",
   "language": "python",
   "name": "python3"
  },
  "language_info": {
   "codemirror_mode": {
    "name": "ipython",
    "version": 3
   },
   "file_extension": ".py",
   "mimetype": "text/x-python",
   "name": "python",
   "nbconvert_exporter": "python",
   "pygments_lexer": "ipython3",
   "version": "3.10.6"
  },
  "orig_nbformat": 4
 },
 "nbformat": 4,
 "nbformat_minor": 2
}
